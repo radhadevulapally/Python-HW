{
 "cells": [
  {
   "cell_type": "code",
   "execution_count": 1,
   "metadata": {},
   "outputs": [],
   "source": [
    "import csv"
   ]
  },
  {
   "cell_type": "code",
   "execution_count": 14,
   "metadata": {},
   "outputs": [],
   "source": [
    "total_votes = 0\n",
    "persons = {}\n",
    "candidates_percent_dict = {}\n",
    "winner = \"NONE\"\n",
    "count = 0\n",
    "candidate_votes_dict= {}\n",
    "myfile='data.csv'\n",
    "with open (myfile,'r') as csv_file:\n",
    "  csv_reader=csv.reader(csv_file,delimiter=',')\n",
    "  next(csv_reader) \n",
    "  for row in csv_reader:      \n",
    "    total_votes = total_votes + 1\n",
    "    candidate = row[2]\n",
    "    if row[2] in persons.keys():\n",
    "           persons[row[2]] += 1\n",
    "    else:\n",
    "            persons[row[2]] = 1\n",
    "for key, value in persons.items():\n",
    "    candidates_percent_dict[key] = round((value/total_votes)*100,2)\n",
    "for key in persons.keys():\n",
    "    if persons[key] > count:\n",
    "        winner = key\n",
    "        count = persons[key]\n",
    "        \n",
    "    \n",
    "    "
   ]
  },
  {
   "cell_type": "code",
   "execution_count": 18,
   "metadata": {},
   "outputs": [
    {
     "name": "stdout",
     "output_type": "stream",
     "text": [
      "Election Results\n",
      "-------------------\n",
      "Total Votes: 3521001\n",
      "-------------------\n",
      "Khan: 63.0% (2218231)\n",
      "Correy: 20.0% (704200)\n",
      "Li: 14.0% (492940)\n",
      "O'Tooley: 3.0% (105630)\n",
      "--------------------\n",
      "Winner: Khan\n"
     ]
    }
   ],
   "source": [
    "print(\"Election Results\")\n",
    "print(\"-------------------\")\n",
    "print(\"Total Votes: \" + str(total_votes))\n",
    "print(\"-------------------\")\n",
    "for key, value in persons.items():\n",
    "    print(key + \": \" + str(candidates_percent_dict[key]) + \"% (\" + str(value) + \")\")\n",
    "print(\"--------------------\")\n",
    "print(\"Winner: \" + winner)\n",
    "\n"
   ]
  },
  {
   "cell_type": "code",
   "execution_count": 16,
   "metadata": {},
   "outputs": [],
   "source": [
    "outputfile=open(\"results.txt\",\"w\")"
   ]
  },
  {
   "cell_type": "code",
   "execution_count": 21,
   "metadata": {},
   "outputs": [
    {
     "data": {
      "text/plain": [
       "12"
      ]
     },
     "execution_count": 21,
     "metadata": {},
     "output_type": "execute_result"
    }
   ],
   "source": [
    "outputfile=open(\"results.txt\",\"w\")\n",
    "outputfile.write(\"Election Results \\n\")\n",
    "outputfile.write('--------\\n')\n",
    "outputfile.write(\"Total Votes: \" + str(total_votes) + \"\\n\")\n",
    "outputfile.write('--------\\n')\n",
    "for key, value in persons.items():\n",
    "  outputfile.write(key + \": \" + str(candidates_percent_dict[key]) + \"% (\" + str(value) + \") \\n\")\n",
    "\n",
    "outputfile.write(\"---------------\\n\")\n",
    "outputfile.write(\"Winner: \" + winner)\n",
    "\n",
    "\n",
    "\n"
   ]
  },
  {
   "cell_type": "code",
   "execution_count": null,
   "metadata": {},
   "outputs": [],
   "source": []
  }
 ],
 "metadata": {
  "kernelspec": {
   "display_name": "Python 3",
   "language": "python",
   "name": "python3"
  },
  "language_info": {
   "codemirror_mode": {
    "name": "ipython",
    "version": 3
   },
   "file_extension": ".py",
   "mimetype": "text/x-python",
   "name": "python",
   "nbconvert_exporter": "python",
   "pygments_lexer": "ipython3",
   "version": "3.7.6"
  }
 },
 "nbformat": 4,
 "nbformat_minor": 4
}
