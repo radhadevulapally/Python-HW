{
 "cells": [
  {
   "cell_type": "code",
   "execution_count": 2,
   "metadata": {},
   "outputs": [],
   "source": [
    "#importing dependencies\n",
    "import csv\n"
   ]
  },
  {
   "cell_type": "code",
   "execution_count": 21,
   "metadata": {},
   "outputs": [],
   "source": [
    "#reading csv file\n",
    "myfile=\"data.csv\"\n",
    "with open(myfile,\"r\") as csv_file:\n",
    "    csv_reader=csv.reader(csv_file)\n",
    "    #creating and setting variables,lists\n",
    "    dates_list=[]\n",
    "    profit_loss_list=[]\n",
    "    prev_value=0\n",
    "    change_in_profit_loss_list=[]\n",
    "    initial_profit=0\n",
    "    #skip header\n",
    "    next(csv_reader)\n",
    "    #looping throgh file and getting values\n",
    "    for row in csv_reader:\n",
    "         dates_list.append(row[0])\n",
    "         profit_loss_list.append(int(row[1]))\n",
    "         change_value=int(row[1])-prev_value\n",
    "         change_in_profit_loss_list.append(change_value)\n",
    "         prev_value=int(row[1])\n",
    "         total_value=sum(profit_loss_list)\n",
    "         monthly_change=change_value/len(dates_list)-1\n",
    "         \n",
    "\n",
    "  "
   ]
  },
  {
   "cell_type": "code",
   "execution_count": 1,
   "metadata": {},
   "outputs": [
    {
     "ename": "NameError",
     "evalue": "name 'x' is not defined",
     "output_type": "error",
     "traceback": [
      "\u001b[0;31m---------------------------------------------------------------------------\u001b[0m",
      "\u001b[0;31mNameError\u001b[0m                                 Traceback (most recent call last)",
      "\u001b[0;32m<ipython-input-1-fc17d851ef81>\u001b[0m in \u001b[0;36m<module>\u001b[0;34m\u001b[0m\n\u001b[0;32m----> 1\u001b[0;31m \u001b[0mprint\u001b[0m\u001b[0;34m(\u001b[0m\u001b[0mx\u001b[0m\u001b[0;34m)\u001b[0m\u001b[0;34m\u001b[0m\u001b[0;34m\u001b[0m\u001b[0m\n\u001b[0m",
      "\u001b[0;31mNameError\u001b[0m: name 'x' is not defined"
     ]
    }
   ],
   "source": []
  },
  {
   "cell_type": "code",
   "execution_count": 7,
   "metadata": {},
   "outputs": [
    {
     "name": "stdout",
     "output_type": "stream",
     "text": [
      "total months 86\n"
     ]
    }
   ],
   "source": [
    "print(\"total months\",len(dates_list))"
   ]
  },
  {
   "cell_type": "code",
   "execution_count": 8,
   "metadata": {},
   "outputs": [
    {
     "name": "stdout",
     "output_type": "stream",
     "text": [
      "total 38382578\n"
     ]
    }
   ],
   "source": [
    "print(\"total\",sum(profit_loss_list))"
   ]
  },
  {
   "cell_type": "code",
   "execution_count": 74,
   "metadata": {},
   "outputs": [
    {
     "name": "stdout",
     "output_type": "stream",
     "text": [
      "average Change 6196.1511627906975\n"
     ]
    }
   ],
   "source": [
    "print('average Change',monthly_change)"
   ]
  },
  {
   "cell_type": "code",
   "execution_count": 9,
   "metadata": {},
   "outputs": [
    {
     "name": "stdout",
     "output_type": "stream",
     "text": [
      "Greatest increase in profits:  Feb-2012 1926159\n"
     ]
    }
   ],
   "source": [
    "print('Greatest increase in profits: ',dates_list[change_in_profit_loss_list.index(max(change_in_profit_loss_list))],  max(change_in_profit_loss_list))"
   ]
  },
  {
   "cell_type": "code",
   "execution_count": 11,
   "metadata": {},
   "outputs": [
    {
     "name": "stdout",
     "output_type": "stream",
     "text": [
      "Greatest decrease in profits:  Sep-2013 -2196167\n"
     ]
    }
   ],
   "source": [
    "\n",
    "print('Greatest decrease in profits: ',dates_list[change_in_profit_loss_list.index(min(change_in_profit_loss_list))],  min(change_in_profit_loss_list))"
   ]
  },
  {
   "cell_type": "code",
   "execution_count": 12,
   "metadata": {},
   "outputs": [
    {
     "name": "stdout",
     "output_type": "stream",
     "text": [
      "Financial Analysis\n",
      "----------------------------\n",
      "Total months: 86\n",
      "Total: 38382578\n",
      "average Change $ 6195.1511627906975\n",
      "Greatest increase in profits:  Feb-2012 1926159\n",
      "Greatest Decrease in Profits:  Sep-2013 -2196167\n"
     ]
    }
   ],
   "source": [
    "#final result\n",
    "print('Financial Analysis')\n",
    "print('----------------------------')\n",
    "\n",
    "\n",
    "print(\"Total months:\",len(dates_list))\n",
    "\n",
    "print(\"Total:\",sum(profit_loss_list) )\n",
    "print('average Change $',monthly_change )\n",
    "    \n",
    "\n",
    "print(\"Greatest increase in profits: \",dates_list[change_in_profit_loss_list.index(max(change_in_profit_loss_list))],  max(change_in_profit_loss_list))\n",
    "print(\"Greatest Decrease in Profits: \",dates_list[change_in_profit_loss_list.index(min(change_in_profit_loss_list))],  min(change_in_profit_loss_list))"
   ]
  },
  {
   "cell_type": "code",
   "execution_count": 13,
   "metadata": {},
   "outputs": [
    {
     "ename": "SyntaxError",
     "evalue": "invalid syntax (<ipython-input-13-5d8b88eb7fa7>, line 14)",
     "output_type": "error",
     "traceback": [
      "\u001b[0;36m  File \u001b[0;32m\"<ipython-input-13-5d8b88eb7fa7>\"\u001b[0;36m, line \u001b[0;32m14\u001b[0m\n\u001b[0;31m    writefile.write(\"Greatest Decrease in Profits: \" + str(dates_list[change_in_profit_loss_list.index(min(change_in_profit_loss_list))] + str(min(change_in_profit_loss_list))+ \"\\n\")\u001b[0m\n\u001b[0m            ^\u001b[0m\n\u001b[0;31mSyntaxError\u001b[0m\u001b[0;31m:\u001b[0m invalid syntax\n"
     ]
    }
   ],
   "source": [
    "\n",
    "                 \n"
   ]
  },
  {
   "cell_type": "code",
   "execution_count": null,
   "metadata": {},
   "outputs": [],
   "source": []
  },
  {
   "cell_type": "code",
   "execution_count": 15,
   "metadata": {},
   "outputs": [],
   "source": [
    "#result to output1 text file\n",
    "file='Output1.txt'\n",
    "with open(file, 'w') as writefile1:\n",
    " writefile1.write('Financial Analysis' + '\\n')\n",
    " writefile1.write('----------------------------' + '\\n')\n",
    "\n",
    "\n",
    " writefile1.write(\"Total months:\" + str(len(dates_list)) + '\\n')\n",
    "\n",
    " writefile1.write(\"Total:\" + str(sum(profit_loss_list)) + \"\\n\")\n",
    " writefile1.write('average Change $' + str(monthly_change) + \"\\n\" )\n",
    "    \n",
    "\n",
    " writefile1.write(\"Greatest increase in profits: \" + str(dates_list[change_in_profit_loss_list.index(max(change_in_profit_loss_list))]) + str(max(change_in_profit_loss_list)) + \"\\n\")\n",
    " writefile1.write(\"Greatest Decrease in Profits: \" + str(dates_list[change_in_profit_loss_list.index(min(change_in_profit_loss_list))]) + str(min(change_in_profit_loss_list)) + \"\\n\")"
   ]
  },
  {
   "cell_type": "code",
   "execution_count": null,
   "metadata": {},
   "outputs": [],
   "source": []
  }
 ],
 "metadata": {
  "kernelspec": {
   "display_name": "Python 3",
   "language": "python",
   "name": "python3"
  },
  "language_info": {
   "codemirror_mode": {
    "name": "ipython",
    "version": 3
   },
   "file_extension": ".py",
   "mimetype": "text/x-python",
   "name": "python",
   "nbconvert_exporter": "python",
   "pygments_lexer": "ipython3",
   "version": "3.7.6"
  }
 },
 "nbformat": 4,
 "nbformat_minor": 4
}
